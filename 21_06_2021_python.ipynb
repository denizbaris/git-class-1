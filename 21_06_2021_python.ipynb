{
  "nbformat": 4,
  "nbformat_minor": 0,
  "metadata": {
    "colab": {
      "name": "21.06.2021 python.ipynb",
      "provenance": [],
      "collapsed_sections": []
    },
    "kernelspec": {
      "name": "python3",
      "display_name": "Python 3"
    },
    "language_info": {
      "name": "python"
    }
  },
  "cells": [
    {
      "cell_type": "code",
      "metadata": {
        "colab": {
          "base_uri": "https://localhost:8080/",
          "height": 0
        },
        "id": "aiXvOXuMYYGg",
        "outputId": "27eea7f1-ad13-41a6-f6a4-b272e8212cec"
      },
      "source": [
        "first_num = input('Please enter a number')          #INPUT FUNCTION ALWAYS RETURN TO A STRING EVEN IF THAT STRING CONTAINS A NUMBER# \n",
        "second_num = input('Please enter another number')              #INTEGER\n",
        "print(int(first_num) + int(second_num))"
      ],
      "execution_count": 5,
      "outputs": [
        {
          "output_type": "stream",
          "text": [
            "Please enter a number5\n",
            "Please enter another number6\n",
            "11\n"
          ],
          "name": "stdout"
        }
      ]
    },
    {
      "cell_type": "code",
      "metadata": {
        "colab": {
          "base_uri": "https://localhost:8080/",
          "height": 0
        },
        "id": "_yumEOlKZBu0",
        "outputId": "dd8109ad-8533-476f-a311-c809a3b77f3e"
      },
      "source": [
        " first_num = input('Please enter a number')          #INPUT FUNCTION ALWAYS RETURN TO A STRING EVEN IF THAT STRING CONTAINS A NUMBER# \n",
        "second_num = input('Please enter another number')           #FLOAT\n",
        "print(float(first_num) + float(second_num))"
      ],
      "execution_count": 6,
      "outputs": [
        {
          "output_type": "stream",
          "text": [
            "Please enter a number6\n",
            "Please enter another number6\n",
            "12.0\n"
          ],
          "name": "stdout"
        }
      ]
    },
    {
      "cell_type": "code",
      "metadata": {
        "colab": {
          "base_uri": "https://localhost:8080/",
          "height": 0
        },
        "id": "I0iGSdI2Z_Ye",
        "outputId": "f17175c1-6c66-4aee-8eae-5e75de9b7461"
      },
      "source": [
        "first_num = input('Please enter a number')          #INPUT FUNCTION ALWAYS RETURN TO A STRING EVEN IF THAT STRING CONTAINS A NUMBER# \n",
        "second_num = input('Please enter another number')          #STRING\n",
        "print(first_num + second_num)"
      ],
      "execution_count": 7,
      "outputs": [
        {
          "output_type": "stream",
          "text": [
            "Please enter a number6\n",
            "Please enter another number6\n",
            "66\n"
          ],
          "name": "stdout"
        }
      ]
    },
    {
      "cell_type": "code",
      "metadata": {
        "colab": {
          "base_uri": "https://localhost:8080/",
          "height": 0
        },
        "id": "voqj1hE-aF8N",
        "outputId": "97dbb569-8b42-43a6-f28e-b6e132efc47d"
      },
      "source": [
        "days_in_Feb = 28\n",
        "print(str(days_in_Feb) + ' total days in February')\n"
      ],
      "execution_count": 9,
      "outputs": [
        {
          "output_type": "stream",
          "text": [
            "28 total days in February\n"
          ],
          "name": "stdout"
        }
      ]
    },
    {
      "cell_type": "code",
      "metadata": {
        "colab": {
          "base_uri": "https://localhost:8080/",
          "height": 0
        },
        "id": "s_sgyJGFa7Bk",
        "outputId": "a58bb703-e80f-494b-fcbd-5cf4fc2c39d7"
      },
      "source": [
        "#PRINT FUNCTION\n",
        "\n",
        "x = 5\n",
        "print ('value of x       : ', x)\n",
        "\n",
        "x += 2\n",
        "print (\"2 more of x      : \", x, \"\\n\") # using string expression '\\n', \n",
        "                                       # we produce extra line. \n",
        "                                       # So that we had empty line.\n",
        "y = 10\n",
        "print ('value of y       : ', y)\n",
        "\n",
        "y -= 2\n",
        "print (\"2 minus y        : \", y, \"\\n\")\n",
        "\n",
        "z = 6\n",
        "print ('value of z       : ', z)\n",
        "\n",
        "z *= 2\n",
        "print (\"2 times z        : \", z, \"\\n\")\n"
      ],
      "execution_count": 10,
      "outputs": [
        {
          "output_type": "stream",
          "text": [
            "value of x       :  5\n",
            "2 more of x      :  7 \n",
            "\n",
            "value of y       :  10\n",
            "2 minus y        :  8 \n",
            "\n",
            "value of z       :  6\n",
            "2 times z        :  12 \n",
            "\n"
          ],
          "name": "stdout"
        }
      ]
    },
    {
      "cell_type": "code",
      "metadata": {
        "colab": {
          "base_uri": "https://localhost:8080/",
          "height": 0
        },
        "id": "ua6JibAtbr4J",
        "outputId": "19dff344-473f-4f9e-fc6b-c30f97f7b8f9"
      },
      "source": [
        "fruit = 'Orange'\n",
        "vegetable = \"Tomato\"\n",
        "print (fruit, \"\"\"and\"\"\" , vegetable)"
      ],
      "execution_count": 16,
      "outputs": [
        {
          "output_type": "stream",
          "text": [
            "Orange and Tomato\n"
          ],
          "name": "stdout"
        }
      ]
    },
    {
      "cell_type": "code",
      "metadata": {
        "colab": {
          "base_uri": "https://localhost:8080/",
          "height": 0
        },
        "id": "Ox_XKwkHb4AH",
        "outputId": "245b36b6-cbaf-4aeb-a16c-5afd9528d033"
      },
      "source": [
        "print(type('hello'))"
      ],
      "execution_count": 18,
      "outputs": [
        {
          "output_type": "stream",
          "text": [
            "<class 'str'>\n"
          ],
          "name": "stdout"
        }
      ]
    },
    {
      "cell_type": "code",
      "metadata": {
        "colab": {
          "base_uri": "https://localhost:8080/",
          "height": 0
        },
        "id": "AF5pMY3bcXpa",
        "outputId": "754ae469-e74e-4d30-ae88-b33767669d14"
      },
      "source": [
        "a = 'hello'\n",
        "b = 3.14\n",
        "c = 74\n",
        "print(type(a), type(b), type(c), sep = '\\n')"
      ],
      "execution_count": 19,
      "outputs": [
        {
          "output_type": "stream",
          "text": [
            "<class 'str'>\n",
            "<class 'float'>\n",
            "<class 'int'>\n"
          ],
          "name": "stdout"
        }
      ]
    },
    {
      "cell_type": "code",
      "metadata": {
        "colab": {
          "base_uri": "https://localhost:8080/",
          "height": 0
        },
        "id": "jh0KgJ2Jc41x",
        "outputId": "3b1f29e9-e690-4e82-ff75-b136ea2522ce"
      },
      "source": [
        "print('we', '\\bare', '\\bunited') # remember, normally print() function\n",
        "# separates expressions by spaces"
      ],
      "execution_count": 20,
      "outputs": [
        {
          "output_type": "stream",
          "text": [
            "we \bare \bunited\n"
          ],
          "name": "stdout"
        }
      ]
    },
    {
      "cell_type": "code",
      "metadata": {
        "colab": {
          "base_uri": "https://localhost:8080/",
          "height": 0
        },
        "id": "a37MIv9FdCU_",
        "outputId": "08821d6c-1b6a-4326-98c8-9de5a6e2da3c"
      },
      "source": [
        "print('it\\'s funny to learn Python') # single-quote did not give error due to \\"
      ],
      "execution_count": 21,
      "outputs": [
        {
          "output_type": "stream",
          "text": [
            "it's funny to learn Python\n"
          ],
          "name": "stdout"
        }
      ]
    },
    {
      "cell_type": "code",
      "metadata": {
        "id": "oZ8PhkuMdHT1"
      },
      "source": [
        "#Be careful, when using 👉🏻\\ in the long string. \n",
        "#It may cause error because of its functionality described above. Using 👉🏻\\\\ guarantees no error.\n"
      ],
      "execution_count": 22,
      "outputs": []
    },
    {
      "cell_type": "code",
      "metadata": {
        "id": "8EjP0TMydTkm"
      },
      "source": [
        "#DERS BASLADI\n"
      ],
      "execution_count": 23,
      "outputs": []
    },
    {
      "cell_type": "code",
      "metadata": {
        "colab": {
          "base_uri": "https://localhost:8080/",
          "height": 0
        },
        "id": "5wMhM-nRiJnn",
        "outputId": "29816173-07bd-40bc-bb49-8dae7335872a"
      },
      "source": [
        " x = input(\"Bir sayi giriniz\")\n",
        " y = input(\"Bur sayi daha giriniz\")\n",
        "\n",
        " z = x + y\n",
        "\n",
        " print(z)"
      ],
      "execution_count": 25,
      "outputs": [
        {
          "output_type": "stream",
          "text": [
            "Bir sayi giriniz11\n",
            "Bur sayi daha giriniz4\n",
            "114\n"
          ],
          "name": "stdout"
        }
      ]
    },
    {
      "cell_type": "code",
      "metadata": {
        "colab": {
          "base_uri": "https://localhost:8080/",
          "height": 0
        },
        "id": "RHjwEiyDixdf",
        "outputId": "9f8dd58f-e672-49db-b873-c28119362339"
      },
      "source": [
        "21 %  3 \n",
        "           #MODULUS YANI BOLUNUNCE KALAN KAC"
      ],
      "execution_count": 30,
      "outputs": [
        {
          "output_type": "execute_result",
          "data": {
            "text/plain": [
              "0"
            ]
          },
          "metadata": {
            "tags": []
          },
          "execution_count": 30
        }
      ]
    },
    {
      "cell_type": "code",
      "metadata": {
        "colab": {
          "base_uri": "https://localhost:8080/",
          "height": 0
        },
        "id": "K6BwoVATjIjf",
        "outputId": "08c026e2-261c-4f28-aaf4-ebdfb2a04ae5"
      },
      "source": [
        "21 // 3"
      ],
      "execution_count": 28,
      "outputs": [
        {
          "output_type": "execute_result",
          "data": {
            "text/plain": [
              "7"
            ]
          },
          "metadata": {
            "tags": []
          },
          "execution_count": 28
        }
      ]
    },
    {
      "cell_type": "code",
      "metadata": {
        "colab": {
          "base_uri": "https://localhost:8080/",
          "height": 0
        },
        "id": "F26C8vB2jgbW",
        "outputId": "d1392eec-b163-41ed-fe01-071fe66cd305"
      },
      "source": [
        "21 // 4"
      ],
      "execution_count": 31,
      "outputs": [
        {
          "output_type": "execute_result",
          "data": {
            "text/plain": [
              "5"
            ]
          },
          "metadata": {
            "tags": []
          },
          "execution_count": 31
        }
      ]
    },
    {
      "cell_type": "code",
      "metadata": {
        "id": "dAgnuphMjobU"
      },
      "source": [
        "#- Kadayif\n",
        "#- Ic;\n",
        "   #- Ceviz\n",
        "   #- Findik\n",
        "   #- Fistik\n",
        "#- Serbet;\n",
        "   #- Su,\n",
        "   #- Seker\n",
        "#- Yumurta"
      ],
      "execution_count": 33,
      "outputs": []
    },
    {
      "cell_type": "code",
      "metadata": {
        "id": "n_me00BckzFA"
      },
      "source": [
        "kadayif = True\n",
        "\n",
        "#ic\n",
        "findik = True\n",
        "fistik = True\n",
        "ceviz = True\n",
        "\n",
        "#serbet\n",
        "su = True\n",
        "seker = True\n",
        "\n",
        "yumurta = True\n",
        "\n",
        "#icecek\n",
        "cay = True\n",
        "limonata = True\n",
        "mesrubat = True\n"
      ],
      "execution_count": 46,
      "outputs": []
    },
    {
      "cell_type": "code",
      "metadata": {
        "colab": {
          "base_uri": "https://localhost:8080/",
          "height": 0
        },
        "id": "xcV0ZtJllVmh",
        "outputId": "8a977477-d5df-4986-e698-ea0f0867cd6e"
      },
      "source": [
        "yedim = kadayif and (ceviz or findik or fistik) and (su or seker) and yumurta and (cay or limonata or mesrubat)\n",
        "print(yedim)"
      ],
      "execution_count": 47,
      "outputs": [
        {
          "output_type": "stream",
          "text": [
            "True\n"
          ],
          "name": "stdout"
        }
      ]
    },
    {
      "cell_type": "code",
      "metadata": {
        "colab": {
          "base_uri": "https://localhost:8080/",
          "height": 0
        },
        "id": "OSZ83mtUlwQl",
        "outputId": "65067fdf-e085-4d53-f402-72c547384d80"
      },
      "source": [
        "print(\"hello \\naylon\")"
      ],
      "execution_count": 57,
      "outputs": [
        {
          "output_type": "stream",
          "text": [
            "hello \n",
            "aylon\n"
          ],
          "name": "stdout"
        }
      ]
    },
    {
      "cell_type": "code",
      "metadata": {
        "id": "n87OM2QTofpY"
      },
      "source": [
        "#BU DERSTE ASIL INDEXING&SLICING STRINGS\n",
        "#STRING FORMATTING GORUCEZ\n"
      ],
      "execution_count": 58,
      "outputs": []
    },
    {
      "cell_type": "code",
      "metadata": {
        "id": "UBCkfkxQqLLJ"
      },
      "source": [
        "#Iterable = elemanlarina ayrilabilen ve elemanlari tek tek alinip kullanilabilir, indexlenebilir, elemanlarina bolunebilir"
      ],
      "execution_count": 59,
      "outputs": []
    },
    {
      "cell_type": "code",
      "metadata": {
        "colab": {
          "base_uri": "https://localhost:8080/"
        },
        "id": "o47vgbnyqZZd",
        "outputId": "5f626c11-f76c-4b51-caf8-6e9474162cbb"
      },
      "source": [
        "fruit = 'Orange'\n",
        "print('Word                 : ' , fruit)\n",
        "print('First letter         : ' , fruit[0])\n",
        "print('2nd and 5th letters  : ' , fruit[2:5])\n"
      ],
      "execution_count": 68,
      "outputs": [
        {
          "output_type": "stream",
          "text": [
            "Word                 :  Orange\n",
            "First letter         :  O\n",
            "2nd and 5th letters  :  ang\n"
          ],
          "name": "stdout"
        }
      ]
    },
    {
      "cell_type": "code",
      "metadata": {
        "colab": {
          "base_uri": "https://localhost:8080/"
        },
        "id": "UEaBSkscrZF5",
        "outputId": "19c4135e-32d8-48c4-e02c-8ab762c33db9"
      },
      "source": [
        "parca = \"clarusway\" [2:5]\n",
        "print(parca)"
      ],
      "execution_count": 70,
      "outputs": [
        {
          "output_type": "stream",
          "text": [
            "aru\n"
          ],
          "name": "stdout"
        }
      ]
    },
    {
      "cell_type": "code",
      "metadata": {
        "colab": {
          "base_uri": "https://localhost:8080/"
        },
        "id": "r7OFphSLvmXE",
        "outputId": "12edaba0-cdb7-4b46-e5fa-2dc8b086a5d9"
      },
      "source": [
        "city = 'Phoenix'\n",
        "\n",
        "print(city[1:])\n",
        "print(city[:6])   # from 0 to 5th index\n",
        "print(city[::2])  #0 dan baslar 2ser gider\n",
        "print(city[1::2])  # bir al bir alma\n",
        "print(city[-3])      #negatif indexlerin yonu terstir sagdan baslar sola dogru gider\n",
        "\n",
        "print(city[::-1]) # bu cok kullanilir tbak tum stringi al tersten yazdir\n"
      ],
      "execution_count": 91,
      "outputs": [
        {
          "output_type": "stream",
          "text": [
            "hoenix\n",
            "Phoeni\n",
            "Ponx\n",
            "hei\n",
            "n\n",
            "xineohP\n",
            "\n"
          ],
          "name": "stdout"
        }
      ]
    },
    {
      "cell_type": "code",
      "metadata": {
        "colab": {
          "base_uri": "https://localhost:8080/"
        },
        "id": "Kz-2a3Bqv5xR",
        "outputId": "b2eec910-61a0-48c2-9d7b-23a37c913a43"
      },
      "source": [
        "a = 'Orange'     # 0 1 2 3 4 5 pozitifte baslarken dahil biterken dahil degil\n",
        "print(a[-5:-2])\n",
        "print(a[1:4])"
      ],
      "execution_count": 82,
      "outputs": [
        {
          "output_type": "stream",
          "text": [
            "ran\n",
            "ran\n"
          ],
          "name": "stdout"
        }
      ]
    },
    {
      "cell_type": "code",
      "metadata": {
        "colab": {
          "base_uri": "https://localhost:8080/",
          "height": 35
        },
        "id": "nEQrxJ4UxMdl",
        "outputId": "679481d8-ee8a-4ca8-cb87-4a12f3f60cc8"
      },
      "source": [
        "\"clarus\"[-3::-1]"
      ],
      "execution_count": 93,
      "outputs": [
        {
          "output_type": "execute_result",
          "data": {
            "application/vnd.google.colaboratory.intrinsic+json": {
              "type": "string"
            },
            "text/plain": [
              "'ralc'"
            ]
          },
          "metadata": {
            "tags": []
          },
          "execution_count": 93
        }
      ]
    },
    {
      "cell_type": "code",
      "metadata": {
        "colab": {
          "base_uri": "https://localhost:8080/"
        },
        "id": "eP4ZNpl6zmic",
        "outputId": "01961841-1796-41d8-d938-e423cc973417"
      },
      "source": [
        "animal = 'hippopotamus' #toplam 12\n",
        "print('length of the word', animal, 'is :' , len(animal))\n",
        "print(animal[-2])         #eger hicbit eleman yakalamiyorsa bos verirpr\n",
        "print(animal[-5:-2])       #ama anlamadigim nokta print fomrlunde '' bile vermiyor\n",
        "print(animal[-2:-5])       #negatif indexte sagdan sola, pozitif indexte soldan saga dogru\n",
        "animal[-2:-5]\n",
        "print(animal[-1::])\n",
        "print(animal[::-1])"
      ],
      "execution_count": 119,
      "outputs": [
        {
          "output_type": "stream",
          "text": [
            "length of the word hippopotamus is : 12\n",
            "u\n",
            "tam\n",
            "\n",
            "s\n",
            "sumatopoppih\n"
          ],
          "name": "stdout"
        }
      ]
    },
    {
      "cell_type": "code",
      "metadata": {
        "colab": {
          "base_uri": "https://localhost:8080/"
        },
        "id": "ZiOo-CgW1xh0",
        "outputId": "13461606-5f1a-4faa-ae6e-b76284b1326c"
      },
      "source": [
        "vegetable = 'Tomato'\n",
        "print('length of the word', vegetable, 'is :' , len(vegetable))"
      ],
      "execution_count": 116,
      "outputs": [
        {
          "output_type": "stream",
          "text": [
            "length of the word Tomato is : 6\n"
          ],
          "name": "stdout"
        }
      ]
    },
    {
      "cell_type": "code",
      "metadata": {
        "colab": {
          "base_uri": "https://localhost:8080/"
        },
        "id": "5Hd2zkXL3xBz",
        "outputId": "11f65001-17a5-4cbd-bdd0-54219a6aa2b7"
      },
      "source": [
        "str_one = 'upper'           \n",
        "str_two = 3 * 'upper'\n",
        "srt_comb = str_one * 3\n",
        "print(str_two)\n",
        "print(str_one)\n",
        "print(* str_one)         #* aralarina fiziki olarak space koymuyor, iterable'i elemanlarina ayiriyor\n"
      ],
      "execution_count": 125,
      "outputs": [
        {
          "output_type": "stream",
          "text": [
            "upperupperupper\n",
            "upper\n",
            "u p p e r\n"
          ],
          "name": "stdout"
        }
      ]
    },
    {
      "cell_type": "code",
      "metadata": {
        "id": "ePbp78EI5ERk"
      },
      "source": [
        "#3. bolume giriyoruz"
      ],
      "execution_count": 126,
      "outputs": []
    },
    {
      "cell_type": "code",
      "metadata": {
        "colab": {
          "base_uri": "https://localhost:8080/"
        },
        "id": "qaKDdsEPDEl8",
        "outputId": "415ba1f3-1a09-45e3-b765-3c44f406f109"
      },
      "source": [
        "str_one = 'upper'\n",
        "str_one += 'case'\n",
        "print(str_one)\n",
        "str_one +='letter'\n",
        "print(str_one)\n",
        "str_one += 'end'\n",
        "print(str_one)"
      ],
      "execution_count": 129,
      "outputs": [
        {
          "output_type": "stream",
          "text": [
            "uppercase\n",
            "uppercaseletter\n",
            "uppercaseletterend\n"
          ],
          "name": "stdout"
        }
      ]
    },
    {
      "cell_type": "code",
      "metadata": {
        "colab": {
          "base_uri": "https://localhost:8080/"
        },
        "id": "JRcxtoy5DLt2",
        "outputId": "10c0acac-eb06-4fd2-b60d-b264839a2c31"
      },
      "source": [
        "s1 = 'hello'\n",
        "s1 *= 2\n",
        "print(s1)"
      ],
      "execution_count": 130,
      "outputs": [
        {
          "output_type": "stream",
          "text": [
            "hellohello\n"
          ],
          "name": "stdout"
        }
      ]
    },
    {
      "cell_type": "code",
      "metadata": {
        "id": "X-QRYvNvD-Qy"
      },
      "source": [
        "#formatlama\n",
        "#. deyip tab'a basarsan o degiskenin ustunde hangi metodlari kullanabilicegini gorebilirsin ama bu jupyterdeymis\n",
        "\n"
      ],
      "execution_count": 131,
      "outputs": []
    },
    {
      "cell_type": "code",
      "metadata": {
        "colab": {
          "base_uri": "https://localhost:8080/",
          "height": 35
        },
        "id": "fyCGcNOzEyH0",
        "outputId": "4e0f422d-f468-4cab-b0ad-b5e8f7f3eee2"
      },
      "source": [
        "\"hello {} nasilsiniz {}\".format(\"iyisiniz\", \"mi yoksa?\") #"
      ],
      "execution_count": 133,
      "outputs": [
        {
          "output_type": "execute_result",
          "data": {
            "application/vnd.google.colaboratory.intrinsic+json": {
              "type": "string"
            },
            "text/plain": [
              "'hello iyisiniz nasilsiniz mi yoksa?'"
            ]
          },
          "metadata": {
            "tags": []
          },
          "execution_count": 133
        }
      ]
    },
    {
      "cell_type": "code",
      "metadata": {
        "colab": {
          "base_uri": "https://localhost:8080/",
          "height": 35
        },
        "id": "Tgc571efFSys",
        "outputId": "f0e47042-1ee3-4fef-9b84-e01dcc0b3e56"
      },
      "source": [
        "x = \"iyisiniz\"                           #degisken atayip ustune format metodunu kullandik************\n",
        "y = \"mi yoksa\"\n",
        "\"hello {} nasilsiniz {}\".format(x,y)"
      ],
      "execution_count": 138,
      "outputs": [
        {
          "output_type": "execute_result",
          "data": {
            "application/vnd.google.colaboratory.intrinsic+json": {
              "type": "string"
            },
            "text/plain": [
              "'hello iyisiniz nasilsiniz mi yoksa'"
            ]
          },
          "metadata": {
            "tags": []
          },
          "execution_count": 138
        }
      ]
    },
    {
      "cell_type": "code",
      "metadata": {
        "colab": {
          "base_uri": "https://localhost:8080/",
          "height": 35
        },
        "id": "-QPssgbcFoVY",
        "outputId": "64d2ea7b-3fed-44f0-a3fb-d501fb561236"
      },
      "source": [
        "\"hello {1} nasilsiniz {0}\".format(x,y)       #index numarasi 0 x'i, 1 y'yi temsil ediyor **************** format string tipinin bir metodudur"
      ],
      "execution_count": 141,
      "outputs": [
        {
          "output_type": "execute_result",
          "data": {
            "application/vnd.google.colaboratory.intrinsic+json": {
              "type": "string"
            },
            "text/plain": [
              "'hello mi yoksa nasilsiniz iyisiniz'"
            ]
          },
          "metadata": {
            "tags": []
          },
          "execution_count": 141
        }
      ]
    },
    {
      "cell_type": "code",
      "metadata": {
        "colab": {
          "base_uri": "https://localhost:8080/"
        },
        "id": "pqV0dllnGByD",
        "outputId": "00e4ee8f-c78a-4529-f45d-d633af72773b"
      },
      "source": [
        "fruit = 'orange'\n",
        "vegetable = 'tomato'\n",
        "amount = 4\n",
        "print('the amount of {} we bought is {} pounds'.format(fruit, amount))"
      ],
      "execution_count": 142,
      "outputs": [
        {
          "output_type": "stream",
          "text": [
            "the amount of orange we bought is 4 pounds\n"
          ],
          "name": "stdout"
        }
      ]
    },
    {
      "cell_type": "code",
      "metadata": {
        "colab": {
          "base_uri": "https://localhost:8080/"
        },
        "id": "-ZknEJBTGlHS",
        "outputId": "7f00ba92-040f-4912-d36e-1ffa5762d4c9"
      },
      "source": [
        "print('{state} is the most {adjective} state of the {country}'.format(state = 'California' , #format parantezine deger atama\n",
        "                                                                      country = 'USA' , adjective = 'crowded'))"
      ],
      "execution_count": 145,
      "outputs": [
        {
          "output_type": "stream",
          "text": [
            "California is the most crowded state of the USA\n"
          ],
          "name": "stdout"
        }
      ]
    },
    {
      "cell_type": "code",
      "metadata": {
        "colab": {
          "base_uri": "https://localhost:8080/"
        },
        "id": "D2cMRWN3HLCE",
        "outputId": "62859dd3-cfd3-4e36-99f9-6a06107d6f4f"
      },
      "source": [
        "phrase ='{2} {3} {1} {0}'.format('circumstances', 'in all', 'generosity', 'wins')\n",
        "print(phrase)"
      ],
      "execution_count": 149,
      "outputs": [
        {
          "output_type": "stream",
          "text": [
            "generosity wins in all circumstances\n"
          ],
          "name": "stdout"
        }
      ]
    },
    {
      "cell_type": "code",
      "metadata": {
        "id": "8Rrx1prGJJ9m"
      },
      "source": [
        "#DERS BITIMINDE F-STRING FORMATTING"
      ],
      "execution_count": 150,
      "outputs": []
    },
    {
      "cell_type": "code",
      "metadata": {
        "id": "WI7NF__uKN1a"
      },
      "source": [
        ""
      ],
      "execution_count": null,
      "outputs": []
    }
  ]
}